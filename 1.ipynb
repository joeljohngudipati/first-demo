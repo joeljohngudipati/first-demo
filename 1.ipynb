{
 "cells": [
  {
   "cell_type": "code",
   "execution_count": 2,
   "metadata": {},
   "outputs": [
    {
     "name": "stdout",
     "output_type": "stream",
     "text": [
      "pythonn\n"
     ]
    }
   ],
   "source": [
    "print(\"pythonn\")"
   ]
  },
  {
   "cell_type": "code",
   "execution_count": 1,
   "metadata": {},
   "outputs": [
    {
     "ename": "ValueError",
     "evalue": "invalid literal for int() with base 10: ''",
     "output_type": "error",
     "traceback": [
      "\u001b[1;31m---------------------------------------------------------------------------\u001b[0m",
      "\u001b[1;31mValueError\u001b[0m                                Traceback (most recent call last)",
      "Cell \u001b[1;32mIn[1], line 5\u001b[0m\n\u001b[0;32m      2\u001b[0m     res\u001b[39m=\u001b[39mnumber\u001b[39m*\u001b[39mnumber\n\u001b[0;32m      3\u001b[0m     \u001b[39mprint\u001b[39m(\u001b[39m\"\u001b[39m\u001b[39mResult of square=\u001b[39m\u001b[39m\"\u001b[39m,res)\n\u001b[1;32m----> 5\u001b[0m inp\u001b[39m=\u001b[39m\u001b[39mint\u001b[39;49m(\u001b[39minput\u001b[39;49m(\u001b[39m\"\u001b[39;49m\u001b[39mEnter the number: \u001b[39;49m\u001b[39m\"\u001b[39;49m))\n\u001b[0;32m      6\u001b[0m sqr(inp)\n\u001b[0;32m      8\u001b[0m p,q,r \u001b[39m=\u001b[39m \u001b[39m5\u001b[39m,\u001b[39m10\u001b[39m,\u001b[39m15\u001b[39m\n",
      "\u001b[1;31mValueError\u001b[0m: invalid literal for int() with base 10: ''"
     ]
    }
   ],
   "source": [
    "def sqr(number):\n",
    "    res=number*number\n",
    "    print(\"Result of square=\",res)\n",
    "\n",
    "inp=int(input(\"Enter the number: \"))\n",
    "sqr(inp)\n",
    "\n",
    "p,q,r = 5,10,15\n",
    "print(p,q)\n",
    "\n",
    "p,q=q,p\n",
    "print(p,q)\n",
    "\n",
    "x=10\n",
    "y = x+2\n",
    "print(id(y))\n",
    "y = x+5\n",
    "print(id(y))\n",
    "x=10\n",
    "print(type(x))\n",
    "\n",
    "ans=10/0\n",
    "print(ans)\n"
   ]
  }
 ],
 "metadata": {
  "kernelspec": {
   "display_name": "Python 3",
   "language": "python",
   "name": "python3"
  },
  "language_info": {
   "codemirror_mode": {
    "name": "ipython",
    "version": 3
   },
   "file_extension": ".py",
   "mimetype": "text/x-python",
   "name": "python",
   "nbconvert_exporter": "python",
   "pygments_lexer": "ipython3",
   "version": "3.11.1"
  },
  "orig_nbformat": 4,
  "vscode": {
   "interpreter": {
    "hash": "c797269ff3a285cfdf6a9318b887dbb91d860608f73fbfedbf12201f2d9171fd"
   }
  }
 },
 "nbformat": 4,
 "nbformat_minor": 2
}
